{
 "cells": [
  {
   "cell_type": "code",
   "execution_count": 2,
   "metadata": {},
   "outputs": [
    {
     "data": {
      "text/html": [
       "<div>\n",
       "<style scoped>\n",
       "    .dataframe tbody tr th:only-of-type {\n",
       "        vertical-align: middle;\n",
       "    }\n",
       "\n",
       "    .dataframe tbody tr th {\n",
       "        vertical-align: top;\n",
       "    }\n",
       "\n",
       "    .dataframe thead th {\n",
       "        text-align: right;\n",
       "    }\n",
       "</style>\n",
       "<table border=\"1\" class=\"dataframe\">\n",
       "  <thead>\n",
       "    <tr style=\"text-align: right;\">\n",
       "      <th></th>\n",
       "      <th>indexpage1</th>\n",
       "      <th>indexpage2</th>\n",
       "      <th>indexpage3</th>\n",
       "      <th>indexpage4</th>\n",
       "      <th>indexpage5</th>\n",
       "      <th>indexpage6</th>\n",
       "      <th>indexpage7</th>\n",
       "      <th>indexpage8</th>\n",
       "      <th>indexpage9</th>\n",
       "      <th>indexpage10</th>\n",
       "      <th>indexpage11</th>\n",
       "      <th>indexpage12</th>\n",
       "      <th>indexpage13</th>\n",
       "      <th>indexpage14</th>\n",
       "      <th>indexpage15</th>\n",
       "      <th>indexpage16</th>\n",
       "      <th>indexpage17</th>\n",
       "    </tr>\n",
       "  </thead>\n",
       "  <tbody>\n",
       "    <tr>\n",
       "      <th>forum1</th>\n",
       "      <td>{'page1': {'comment1': '\n",
       "Here is the spoiler I...</td>\n",
       "      <td>{'page1': {'comment1': '\n",
       "Another Flat Reminds ...</td>\n",
       "      <td>{'page1': {'comment1': '\n",
       "Backstory: Had all 4 ...</td>\n",
       "      <td>{'page1': {'comment1': '\n",
       "When I test drove my ...</td>\n",
       "      <td>{'page1': {'comment1': '\n",
       "Show Me the Tire Pres...</td>\n",
       "      <td>{'page1': {'comment1': '\n",
       "Feds Probe 2014 Ford ...</td>\n",
       "      <td>{'page1': {'comment1': '\n",
       "Hi! I have 05 kia spo...</td>\n",
       "      <td>{'page1': {'comment1': '\n",
       "Hi Everyone,I am new ...</td>\n",
       "      <td>{'page1': {'comment1': '\n",
       "We bought our 2010 VC...</td>\n",
       "      <td>{'page1': {'comment1': '\n",
       "Ok..I had struts repl...</td>\n",
       "      <td>{'page1': {'comment1': '\n",
       "Planning on purchasin...</td>\n",
       "      <td>{'page1': {'comment1': '\n",
       "Hi!!!!I got a 98 Dico...</td>\n",
       "      <td>{'page1': {'comment1': '\n",
       " I need to buy a set ...</td>\n",
       "      <td>{'page1': {'comment1': '\n",
       "I want to get 31's fo...</td>\n",
       "      <td>{'page1': {'comment1': '\n",
       "Hi I have a Mustang 9...</td>\n",
       "      <td>{'page1': {'comment1': '\n",
       "I swore that I would ...</td>\n",
       "      <td>{'page1': {'comment1': '\n",
       "For a smooth ride,wha...</td>\n",
       "    </tr>\n",
       "    <tr>\n",
       "      <th>forum10</th>\n",
       "      <td>{'page1': {'comment1': '\n",
       "I purchased an 06 CXL...</td>\n",
       "      <td>{'page1': {'comment1': '\n",
       "I'm turning in my 201...</td>\n",
       "      <td>{'page1': {'comment1': '\n",
       "I have a 2002 4Runner...</td>\n",
       "      <td>{'page1': {'comment1': '\n",
       "Hi all,First time car...</td>\n",
       "      <td>{'page1': {'comment1': '\n",
       "Best Blown Tire Ever ...</td>\n",
       "      <td>{'page1': {'comment1': '\n",
       " I have a deep impact...</td>\n",
       "      <td>{'page1': {'comment1': '\n",
       "Had all new tires put...</td>\n",
       "      <td>{'page1': {'comment1': '\n",
       "My owner's manual (Ca...</td>\n",
       "      <td>{'page1': {'comment1': '\n",
       "It's about time to re...</td>\n",
       "      <td>{'page1': {'comment1': '\n",
       "Had to replace front ...</td>\n",
       "      <td>{'page1': {'comment1': '\n",
       "I have a 2000 Lincoln...</td>\n",
       "      <td>{'page1': {'comment1': '\n",
       "Hi! I have owned a 20...</td>\n",
       "      <td>{'page1': {'comment1': '\n",
       "I purchased a 2005 Hy...</td>\n",
       "      <td>{'page1': {'comment1': '\n",
       "Discuss tire and whee...</td>\n",
       "      <td>{'page1': {'comment1': '\n",
       "My 2005 Lincoln Townc...</td>\n",
       "      <td>{'page1': {'comment1': '\n",
       "Can some-one PLEASE t...</td>\n",
       "      <td>{'page1': {'comment1': '\n",
       "I have a new 2002 2WD...</td>\n",
       "    </tr>\n",
       "    <tr>\n",
       "      <th>forum11</th>\n",
       "      <td>{'page1': {'comment1': '\n",
       "I have a 2012 Ford Fu...</td>\n",
       "      <td>{'page1': {'comment1': '\n",
       "I just purchased a 20...</td>\n",
       "      <td>{'page1': {'comment1': '\n",
       "Hi! My front left whe...</td>\n",
       "      <td>{'page1': {'comment1': '\n",
       "Does anyone have a re...</td>\n",
       "      <td>{'page1': {'comment1': '\n",
       "Love Those Big, Moder...</td>\n",
       "      <td>{'page1': {'comment1': '\n",
       "Nailed It - 2015 Jagu...</td>\n",
       "      <td>{'page1': {'comment1': '\n",
       "I have a 2010 Honda C...</td>\n",
       "      <td>{'page1': {'comment1': '\n",
       "I started getting thi...</td>\n",
       "      <td>{'page1': {'comment1': '\n",
       "I wrote this complain...</td>\n",
       "      <td>{'page1': {'comment1': '\n",
       "I'm purchasing a 2004...</td>\n",
       "      <td>{'page1': {'comment1': '\n",
       "Hi, somebody can tell...</td>\n",
       "      <td>{'page1': {'comment1': '\n",
       "I bought an 07 ESV ba...</td>\n",
       "      <td>{'page1': {'comment1': '\n",
       "I have an 05 T&amp;C with...</td>\n",
       "      <td>{'page1': {'comment1': '\n",
       "My AVY has the 16-inc...</td>\n",
       "      <td>{'page1': {'comment1': '\n",
       "I'd like to find more...</td>\n",
       "      <td>{'page1': {'comment1': '\n",
       "Shopping for new rims...</td>\n",
       "      <td>{'page1': {'comment1': '\n",
       "Hi there, I have a '9...</td>\n",
       "    </tr>\n",
       "    <tr>\n",
       "      <th>forum12</th>\n",
       "      <td>{'page1': {'comment1': '\n",
       "The Pros and Cons of ...</td>\n",
       "      <td>{'page1': {'comment1': '\n",
       "We leased a Demo mode...</td>\n",
       "      <td>{'page1': {'comment1': '\n",
       "I've noticed that my ...</td>\n",
       "      <td>{'page1': {'comment1': '\n",
       "We recently purchased...</td>\n",
       "      <td>{'page1': {'comment1': '\n",
       "Old Car, Modern Tire ...</td>\n",
       "      <td>{'page1': {'comment1': '\n",
       "Best Fix for Chrome W...</td>\n",
       "      <td>{'page1': {'comment1': '\n",
       "Can anyone tell me wh...</td>\n",
       "      <td>{'page1': {'comment1': '\n",
       "Would appreciate some...</td>\n",
       "      <td>{'page1': {'comment1': '\n",
       "For what it's worth, ...</td>\n",
       "      <td>{'page1': {'comment1': '\n",
       "I purchased a 2007 Yu...</td>\n",
       "      <td>{'page1': {'comment1': '\n",
       "I am trying to purcha...</td>\n",
       "      <td>{'page1': {'comment1': '\n",
       "My 97 came with Miche...</td>\n",
       "      <td>{'page1': {'comment1': '\n",
       "The original Goodyear...</td>\n",
       "      <td>{'page1': {'comment1': '\n",
       "Discuss tire and whee...</td>\n",
       "      <td>{'page1': {'comment1': '\n",
       "I read on here that s...</td>\n",
       "      <td>{'page1': {'comment1': '\n",
       "Is the Sport with the...</td>\n",
       "      <td>{'page1': {'comment1': '\n",
       "I have 95 diesel subu...</td>\n",
       "    </tr>\n",
       "    <tr>\n",
       "      <th>forum13</th>\n",
       "      <td>{'page1': {'comment1': '\n",
       "Hidden cost of 2017 M...</td>\n",
       "      <td>{'page1': {'comment1': '\n",
       "My tires have inner t...</td>\n",
       "      <td>{'page1': {'comment1': '\n",
       "Are you experience ab...</td>\n",
       "      <td>{'page1': {'comment1': '\n",
       "Hi. I'm looking for a...</td>\n",
       "      <td>{'page1': {'comment1': '\n",
       " Have a problem or qu...</td>\n",
       "      <td>{'page1': {'comment1': '\n",
       "My 2001 Ford Explorer...</td>\n",
       "      <td>{'page1': {'comment1': '\n",
       "I have just replaced ...</td>\n",
       "      <td>{'page1': {'comment1': '\n",
       "I got into an acciden...</td>\n",
       "      <td>{'page1': {'comment1': '\n",
       "Folks,  I need your a...</td>\n",
       "      <td>{'page1': {'comment1': '\n",
       "Have a G35 Sedan 2003...</td>\n",
       "      <td>{'page1': {'comment1': '\n",
       "I have been leasing a...</td>\n",
       "      <td>{'page1': {'comment1': '\n",
       "Put another way, will...</td>\n",
       "      <td>{'page1': {'comment1': '\n",
       "I am finally putting ...</td>\n",
       "      <td>{'page1': {'comment1': '\n",
       "The TPC Spec number y...</td>\n",
       "      <td>{'page1': {'comment1': '\n",
       "My MB R500 has the AM...</td>\n",
       "      <td>{'page1': {'comment1': '\n",
       "My TPMS light came on...</td>\n",
       "      <td>{'page1': {'comment1': '\n",
       "A friend of mine who ...</td>\n",
       "    </tr>\n",
       "  </tbody>\n",
       "</table>\n",
       "</div>"
      ],
      "text/plain": [
       "                                                indexpage1  \\\n",
       "forum1   {'page1': {'comment1': '\n",
       "Here is the spoiler I...   \n",
       "forum10  {'page1': {'comment1': '\n",
       "I purchased an 06 CXL...   \n",
       "forum11  {'page1': {'comment1': '\n",
       "I have a 2012 Ford Fu...   \n",
       "forum12  {'page1': {'comment1': '\n",
       "The Pros and Cons of ...   \n",
       "forum13  {'page1': {'comment1': '\n",
       "Hidden cost of 2017 M...   \n",
       "\n",
       "                                                indexpage2  \\\n",
       "forum1   {'page1': {'comment1': '\n",
       "Another Flat Reminds ...   \n",
       "forum10  {'page1': {'comment1': '\n",
       "I'm turning in my 201...   \n",
       "forum11  {'page1': {'comment1': '\n",
       "I just purchased a 20...   \n",
       "forum12  {'page1': {'comment1': '\n",
       "We leased a Demo mode...   \n",
       "forum13  {'page1': {'comment1': '\n",
       "My tires have inner t...   \n",
       "\n",
       "                                                indexpage3  \\\n",
       "forum1   {'page1': {'comment1': '\n",
       "Backstory: Had all 4 ...   \n",
       "forum10  {'page1': {'comment1': '\n",
       "I have a 2002 4Runner...   \n",
       "forum11  {'page1': {'comment1': '\n",
       "Hi! My front left whe...   \n",
       "forum12  {'page1': {'comment1': '\n",
       "I've noticed that my ...   \n",
       "forum13  {'page1': {'comment1': '\n",
       "Are you experience ab...   \n",
       "\n",
       "                                                indexpage4  \\\n",
       "forum1   {'page1': {'comment1': '\n",
       "When I test drove my ...   \n",
       "forum10  {'page1': {'comment1': '\n",
       "Hi all,First time car...   \n",
       "forum11  {'page1': {'comment1': '\n",
       "Does anyone have a re...   \n",
       "forum12  {'page1': {'comment1': '\n",
       "We recently purchased...   \n",
       "forum13  {'page1': {'comment1': '\n",
       "Hi. I'm looking for a...   \n",
       "\n",
       "                                                indexpage5  \\\n",
       "forum1   {'page1': {'comment1': '\n",
       "Show Me the Tire Pres...   \n",
       "forum10  {'page1': {'comment1': '\n",
       "Best Blown Tire Ever ...   \n",
       "forum11  {'page1': {'comment1': '\n",
       "Love Those Big, Moder...   \n",
       "forum12  {'page1': {'comment1': '\n",
       "Old Car, Modern Tire ...   \n",
       "forum13  {'page1': {'comment1': '\n",
       " Have a problem or qu...   \n",
       "\n",
       "                                                indexpage6  \\\n",
       "forum1   {'page1': {'comment1': '\n",
       "Feds Probe 2014 Ford ...   \n",
       "forum10  {'page1': {'comment1': '\n",
       " I have a deep impact...   \n",
       "forum11  {'page1': {'comment1': '\n",
       "Nailed It - 2015 Jagu...   \n",
       "forum12  {'page1': {'comment1': '\n",
       "Best Fix for Chrome W...   \n",
       "forum13  {'page1': {'comment1': '\n",
       "My 2001 Ford Explorer...   \n",
       "\n",
       "                                                indexpage7  \\\n",
       "forum1   {'page1': {'comment1': '\n",
       "Hi! I have 05 kia spo...   \n",
       "forum10  {'page1': {'comment1': '\n",
       "Had all new tires put...   \n",
       "forum11  {'page1': {'comment1': '\n",
       "I have a 2010 Honda C...   \n",
       "forum12  {'page1': {'comment1': '\n",
       "Can anyone tell me wh...   \n",
       "forum13  {'page1': {'comment1': '\n",
       "I have just replaced ...   \n",
       "\n",
       "                                                indexpage8  \\\n",
       "forum1   {'page1': {'comment1': '\n",
       "Hi Everyone,I am new ...   \n",
       "forum10  {'page1': {'comment1': '\n",
       "My owner's manual (Ca...   \n",
       "forum11  {'page1': {'comment1': '\n",
       "I started getting thi...   \n",
       "forum12  {'page1': {'comment1': '\n",
       "Would appreciate some...   \n",
       "forum13  {'page1': {'comment1': '\n",
       "I got into an acciden...   \n",
       "\n",
       "                                                indexpage9  \\\n",
       "forum1   {'page1': {'comment1': '\n",
       "We bought our 2010 VC...   \n",
       "forum10  {'page1': {'comment1': '\n",
       "It's about time to re...   \n",
       "forum11  {'page1': {'comment1': '\n",
       "I wrote this complain...   \n",
       "forum12  {'page1': {'comment1': '\n",
       "For what it's worth, ...   \n",
       "forum13  {'page1': {'comment1': '\n",
       "Folks,  I need your a...   \n",
       "\n",
       "                                               indexpage10  \\\n",
       "forum1   {'page1': {'comment1': '\n",
       "Ok..I had struts repl...   \n",
       "forum10  {'page1': {'comment1': '\n",
       "Had to replace front ...   \n",
       "forum11  {'page1': {'comment1': '\n",
       "I'm purchasing a 2004...   \n",
       "forum12  {'page1': {'comment1': '\n",
       "I purchased a 2007 Yu...   \n",
       "forum13  {'page1': {'comment1': '\n",
       "Have a G35 Sedan 2003...   \n",
       "\n",
       "                                               indexpage11  \\\n",
       "forum1   {'page1': {'comment1': '\n",
       "Planning on purchasin...   \n",
       "forum10  {'page1': {'comment1': '\n",
       "I have a 2000 Lincoln...   \n",
       "forum11  {'page1': {'comment1': '\n",
       "Hi, somebody can tell...   \n",
       "forum12  {'page1': {'comment1': '\n",
       "I am trying to purcha...   \n",
       "forum13  {'page1': {'comment1': '\n",
       "I have been leasing a...   \n",
       "\n",
       "                                               indexpage12  \\\n",
       "forum1   {'page1': {'comment1': '\n",
       "Hi!!!!I got a 98 Dico...   \n",
       "forum10  {'page1': {'comment1': '\n",
       "Hi! I have owned a 20...   \n",
       "forum11  {'page1': {'comment1': '\n",
       "I bought an 07 ESV ba...   \n",
       "forum12  {'page1': {'comment1': '\n",
       "My 97 came with Miche...   \n",
       "forum13  {'page1': {'comment1': '\n",
       "Put another way, will...   \n",
       "\n",
       "                                               indexpage13  \\\n",
       "forum1   {'page1': {'comment1': '\n",
       " I need to buy a set ...   \n",
       "forum10  {'page1': {'comment1': '\n",
       "I purchased a 2005 Hy...   \n",
       "forum11  {'page1': {'comment1': '\n",
       "I have an 05 T&C with...   \n",
       "forum12  {'page1': {'comment1': '\n",
       "The original Goodyear...   \n",
       "forum13  {'page1': {'comment1': '\n",
       "I am finally putting ...   \n",
       "\n",
       "                                               indexpage14  \\\n",
       "forum1   {'page1': {'comment1': '\n",
       "I want to get 31's fo...   \n",
       "forum10  {'page1': {'comment1': '\n",
       "Discuss tire and whee...   \n",
       "forum11  {'page1': {'comment1': '\n",
       "My AVY has the 16-inc...   \n",
       "forum12  {'page1': {'comment1': '\n",
       "Discuss tire and whee...   \n",
       "forum13  {'page1': {'comment1': '\n",
       "The TPC Spec number y...   \n",
       "\n",
       "                                               indexpage15  \\\n",
       "forum1   {'page1': {'comment1': '\n",
       "Hi I have a Mustang 9...   \n",
       "forum10  {'page1': {'comment1': '\n",
       "My 2005 Lincoln Townc...   \n",
       "forum11  {'page1': {'comment1': '\n",
       "I'd like to find more...   \n",
       "forum12  {'page1': {'comment1': '\n",
       "I read on here that s...   \n",
       "forum13  {'page1': {'comment1': '\n",
       "My MB R500 has the AM...   \n",
       "\n",
       "                                               indexpage16  \\\n",
       "forum1   {'page1': {'comment1': '\n",
       "I swore that I would ...   \n",
       "forum10  {'page1': {'comment1': '\n",
       "Can some-one PLEASE t...   \n",
       "forum11  {'page1': {'comment1': '\n",
       "Shopping for new rims...   \n",
       "forum12  {'page1': {'comment1': '\n",
       "Is the Sport with the...   \n",
       "forum13  {'page1': {'comment1': '\n",
       "My TPMS light came on...   \n",
       "\n",
       "                                               indexpage17  \n",
       "forum1   {'page1': {'comment1': '\n",
       "For a smooth ride,wha...  \n",
       "forum10  {'page1': {'comment1': '\n",
       "I have a new 2002 2WD...  \n",
       "forum11  {'page1': {'comment1': '\n",
       "Hi there, I have a '9...  \n",
       "forum12  {'page1': {'comment1': '\n",
       "I have 95 diesel subu...  \n",
       "forum13  {'page1': {'comment1': '\n",
       "A friend of mine who ...  "
      ]
     },
     "execution_count": 2,
     "metadata": {},
     "output_type": "execute_result"
    }
   ],
   "source": [
    "import pandas as pd\n",
    "p = pd.read_json(\"edmunds_comment_data.json\")\n",
    "p.head()"
   ]
  },
  {
   "cell_type": "code",
   "execution_count": 3,
   "metadata": {},
   "outputs": [
    {
     "data": {
      "text/plain": [
       "(40, 17)"
      ]
     },
     "execution_count": 3,
     "metadata": {},
     "output_type": "execute_result"
    }
   ],
   "source": [
    "p.shape"
   ]
  },
  {
   "cell_type": "markdown",
   "metadata": {},
   "source": [
    "## Clean data and get a dictionary of comments for analysis"
   ]
  },
  {
   "cell_type": "code",
   "execution_count": 237,
   "metadata": {},
   "outputs": [
    {
     "name": "stdout",
     "output_type": "stream",
     "text": [
      "Number of comments scraped: 42887\n"
     ]
    }
   ],
   "source": [
    "import json\n",
    "import nltk\n",
    "from nltk.tokenize import word_tokenize,sent_tokenize\n",
    "from functools import reduce\n",
    "from collections import Counter\n",
    "\n",
    "with open(\"edmunds_comment_data.json\", 'r') as f:\n",
    "    js = json.load(f)\n",
    "\n",
    "commentcount = 0\n",
    "characterstoclean = r'?!,:,/\\\"-+=@#$%^&*()><{}[]|' + r\"'\"\n",
    "\n",
    "commentsdict = {}\n",
    "words = []\n",
    "for i in js.keys():\n",
    "    for j in js[i].keys():\n",
    "        for k in js[i][j].keys():\n",
    "            for l in js[i][j][k].keys():\n",
    "                commentcount+=1\n",
    "                cleanwords = []\n",
    "#                 for w in word_tokenize(js[i][j][k][l]):\n",
    "#                     cleanword = ''.join( c for c in w if c not in characterstoclean ).lower()\n",
    "#                     cleanwords.append(cleanword)\n",
    "#                     words.append(cleanword)\n",
    "                comment = ''\n",
    "                # to remove quoted content in comments, not 100% effective\n",
    "                for s in sent_tokenize(js[i][j][k][l].lower()):\n",
    "                    if \"said:\" not in s:\n",
    "                        comment+=\" \" + s\n",
    "                for c in characterstoclean:\n",
    "                    comment = comment.replace(c,'')\n",
    "                for w in word_tokenize(comment):\n",
    "                    cleanwords.append(w)\n",
    "                    words.append(w)                \n",
    "                \n",
    "                commentsdict['comment' + str(commentcount)] = ' '.join(cleanwords)\n",
    "                \n",
    "\n",
    "print(\"Number of comments scraped: \" + str(commentcount))"
   ]
  },
  {
   "cell_type": "markdown",
   "metadata": {},
   "source": [
    "## Get number of occurences for each word in all comments"
   ]
  },
  {
   "cell_type": "code",
   "execution_count": 241,
   "metadata": {},
   "outputs": [],
   "source": [
    "cnt = Counter(words)"
   ]
  },
  {
   "cell_type": "code",
   "execution_count": 255,
   "metadata": {},
   "outputs": [
    {
     "data": {
      "text/plain": [
       "[(219983, 'the'),\n",
       " (171542, '.'),\n",
       " (97047, 'i'),\n",
       " (95216, 'a'),\n",
       " (92816, 'to'),\n",
       " (88272, 'and'),\n",
       " (55412, 'of'),\n",
       " (49401, 'is'),\n",
       " (48931, 'on'),\n",
       " (47861, 'in')]"
      ]
     },
     "execution_count": 255,
     "metadata": {},
     "output_type": "execute_result"
    }
   ],
   "source": [
    "ranked_cnt = []\n",
    "for i in cnt:\n",
    "    ranked_cnt.append( (cnt[i], i) )\n",
    "ranked_cnt.sort(reverse=True)\n",
    "ranked_cnt[:10]"
   ]
  },
  {
   "cell_type": "code",
   "execution_count": 267,
   "metadata": {},
   "outputs": [
    {
     "data": {
      "text/plain": [
       "[('Michelin', 4546),\n",
       " ('Bridgestone', 2626),\n",
       " ('Goodyear', 2344),\n",
       " ('Toyo', 1094),\n",
       " ('Firestone', 928),\n",
       " ('Dunlop', 869),\n",
       " ('Yokohama', 830),\n",
       " ('Continental', 740),\n",
       " ('General', 726),\n",
       " ('Nokian', 684),\n",
       " ('Pirelli', 595),\n",
       " ('Kumho', 522),\n",
       " ('Cooper', 365),\n",
       " ('Hankook', 245),\n",
       " ('Falken', 177),\n",
       " ('Sumitomo', 121),\n",
       " ('BFGoodrich', 106),\n",
       " ('Uniroyal', 86),\n",
       " ('Nitto', 72),\n",
       " ('Nexen', 34),\n",
       " ('GT Radial', 0)]"
      ]
     },
     "execution_count": 267,
     "metadata": {},
     "output_type": "execute_result"
    }
   ],
   "source": [
    "brands = ['BFGoodrich', 'Bridgestone', 'Continental', 'Cooper', 'Dunlop', 'Falken', 'Firestone', 'General', 'Goodyear', 'GT Radial', 'Hankook', 'Kumho', 'Michelin', 'Nexen', 'Nitto', 'Nokian', 'Pirelli', 'Sumitomo', 'Toyo', 'Uniroyal', 'Yokohama']\n",
    "brand_counts = []\n",
    "for i in brands:\n",
    "    brand_counts.append((i, cnt[i.lower()] ))\n",
    "\n",
    "brand_counts.sort(key=lambda x: x[1], reverse=True)\n",
    "brand_counts\n"
   ]
  },
  {
   "cell_type": "markdown",
   "metadata": {},
   "source": [
    "## Get all the comments that mention goodyear"
   ]
  },
  {
   "cell_type": "code",
   "execution_count": 243,
   "metadata": {},
   "outputs": [],
   "source": [
    "goodyear_comments = {}\n",
    "for i in commentsdict:\n",
    "    if 'goodyear' in commentsdict[i]:\n",
    "        goodyear_comments[i] = commentsdict[i]"
   ]
  },
  {
   "cell_type": "code",
   "execution_count": 244,
   "metadata": {},
   "outputs": [
    {
     "data": {
      "text/plain": [
       "2222"
      ]
     },
     "execution_count": 244,
     "metadata": {},
     "output_type": "execute_result"
    }
   ],
   "source": [
    "len(goodyear_comments)"
   ]
  },
  {
   "cell_type": "markdown",
   "metadata": {},
   "source": [
    "## Get all the words used in comments that mention goodyear"
   ]
  },
  {
   "cell_type": "code",
   "execution_count": 245,
   "metadata": {},
   "outputs": [],
   "source": [
    "words_in_goodyear_comments = []\n",
    "for i in goodyear_comments:\n",
    "    for j in word_tokenize(goodyear_comments[i]):\n",
    "        words_in_goodyear_comments.append(j)"
   ]
  },
  {
   "cell_type": "code",
   "execution_count": 246,
   "metadata": {},
   "outputs": [],
   "source": [
    "gdyr_cnt = Counter(words_in_goodyear_comments)"
   ]
  },
  {
   "cell_type": "code",
   "execution_count": 247,
   "metadata": {},
   "outputs": [
    {
     "data": {
      "text/plain": [
       "[(16452, 'the'),\n",
       " (13411, '.'),\n",
       " (7806, 'i'),\n",
       " (7060, 'and'),\n",
       " (6579, 'a'),\n",
       " (6124, 'to'),\n",
       " (4901, 'tires'),\n",
       " (4431, 'on'),\n",
       " (4202, 'of'),\n",
       " (3608, 'in')]"
      ]
     },
     "execution_count": 247,
     "metadata": {},
     "output_type": "execute_result"
    }
   ],
   "source": [
    "ranked_goyr_cnt = []\n",
    "for i in gdyr_cnt:\n",
    "    ranked_goyr_cnt.append( (gdyr_cnt[i], i) )\n",
    "ranked_goyr_cnt.sort(reverse=True)\n",
    "ranked_goyr_cnt[:10]"
   ]
  },
  {
   "cell_type": "markdown",
   "metadata": {},
   "source": [
    "## Comments with goodyear and ____ in them"
   ]
  },
  {
   "cell_type": "code",
   "execution_count": 270,
   "metadata": {},
   "outputs": [
    {
     "data": {
      "text/plain": [
       "22"
      ]
     },
     "execution_count": 270,
     "metadata": {},
     "output_type": "execute_result"
    }
   ],
   "source": [
    "comparisonstring = 'american'\n",
    "\n",
    "comments_with_gdyr_and = []\n",
    "for i in goodyear_comments:\n",
    "    if comparisonstring in goodyear_comments[i]:\n",
    "        comments_with_gdyr_and.append(goodyear_comments[i])\n",
    "len(comments_with_gdyr_and)"
   ]
  },
  {
   "cell_type": "code",
   "execution_count": 251,
   "metadata": {},
   "outputs": [
    {
     "data": {
      "text/plain": [
       "'dealing with walmart 101unless youre hearing thumping sounds at lower speeds it seems more like a bad balance job than bad tires . walmart does have more than adequate equipment to properly balance your tires . its just a question of who is operating it . take your car back in one more time not to the same store but to the next closest walmart . go mf from 10am4pm when the a team is working not an evening or weekend when the parttimers are working and see if they can correct the balance problem . you might want to pull the weights off with a channellock pliers beforehand to make sure they actually rebalance them and not just check them out . dont mention that you did this of course and act surprised when they tell you there werent even any weights on the wheels . rival stores love to laugh at how incompetent the crew across town is.if it still shakes after the rebalance take it back to the original walmart and raise hell . its entirely possible that you got some bad goodyears as their quality is not what you would expect from such a revered brand . im a diehard buy american kind of guy but i would never waste my hardearned money on a goodyear tire . but thats just me . there is little love in my heart for the french but they make a damn good tire and when it comes to the safety of my family and performance of my vehicles thats all i really care about.if theyre still unwilling to replace your tires take down the names of the team leader and general manager and inform them that you are going to contact the home office in bentonville arkansas to voice your dissatisfaction . youll be surprised how quickly their attitude changes.hope this helps.chris'"
      ]
     },
     "execution_count": 251,
     "metadata": {},
     "output_type": "execute_result"
    }
   ],
   "source": [
    "comments_with_gdyr_and[1]"
   ]
  },
  {
   "cell_type": "code",
   "execution_count": 253,
   "metadata": {},
   "outputs": [
    {
     "name": "stdout",
     "output_type": "stream",
     "text": [
      "are they still in business cant really agree on that . most of them will give away the store to try and make someone happy . comment70\n",
      "are they still in business cant really agree on that . most of them will give away the store to try and make someone happy . he is still in business . its a twoman operation and he is on the far side of 65.i gave him a lot of business . at one time i had four cars and two of them with winter and summer sets.but about six years ago he mounted a couple of lowprofile 18 tires for me ... and said ill be okay if you dont bring me any more 18 wheels.plus at the time i had a 95 job and he was only open from 85 mfr and so i moved on to other shops.he did great work for me until he couldntwouldnt any more . comment71\n"
     ]
    }
   ],
   "source": []
  },
  {
   "cell_type": "code",
   "execution_count": 254,
   "metadata": {},
   "outputs": [
    {
     "data": {
      "text/plain": [
       "['\\nthecardoc3 said: kyfdx said: I used to use a local independent shop.',\n",
       " 'Are they still in business?',\n",
       " 'kyfdx said:Doubt that would have happened with the chain store.',\n",
       " \"Can't really agree on that.\",\n",
       " 'Most of them will give away the store to try and make someone happy.',\n",
       " 'He is still in business.',\n",
       " \"It's a two-man operation, and he is on the far side of 65.I gave him a lot of business.\",\n",
       " 'At one time, I had four cars, and two of them with winter and summer sets.But, about six years ago, he mounted a couple of low-profile 18\" tires for me... and said, \"I\\'ll be okay if you don\\'t bring me any more 18\" wheels\".Plus, at the time, I had a 9-5 job, and he was only open from 8-5, M-Fr, and so I moved on to other shops.He did great work for me, until he couldn\\'t/wouldn\\'t any more.']"
      ]
     },
     "execution_count": 254,
     "metadata": {},
     "output_type": "execute_result"
    }
   ],
   "source": []
  },
  {
   "cell_type": "markdown",
   "metadata": {},
   "source": [
    "Possibly filter lift value to represent associations within a maximum word count  \n",
    "    Beto -- Healthcare (no more than 6 words in between)  \n",
    "mds map a disimilarity matrix, not similarity matrix"
   ]
  }
 ],
 "metadata": {
  "kernelspec": {
   "display_name": "Python 3",
   "language": "python",
   "name": "python3"
  },
  "language_info": {
   "codemirror_mode": {
    "name": "ipython",
    "version": 3
   },
   "file_extension": ".py",
   "mimetype": "text/x-python",
   "name": "python",
   "nbconvert_exporter": "python",
   "pygments_lexer": "ipython3",
   "version": "3.6.5"
  }
 },
 "nbformat": 4,
 "nbformat_minor": 2
}
