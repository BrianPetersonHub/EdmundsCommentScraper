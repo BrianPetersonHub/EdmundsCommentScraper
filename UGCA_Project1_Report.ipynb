{
 "cells": [
  {
   "cell_type": "markdown",
   "metadata": {},
   "source": [
    "## UGCA R\n",
    "We scraped all the comments in all the forums under the tires and wheels section of edmunds (42,890 comments)  \n",
    "https://forums.edmunds.com/discussions/tagged/x/tires-wheels"
   ]
  },
  {
   "cell_type": "code",
   "execution_count": 1,
   "metadata": {},
   "outputs": [
    {
     "data": {
      "text/html": [
       "<div>\n",
       "<style scoped>\n",
       "    .dataframe tbody tr th:only-of-type {\n",
       "        vertical-align: middle;\n",
       "    }\n",
       "\n",
       "    .dataframe tbody tr th {\n",
       "        vertical-align: top;\n",
       "    }\n",
       "\n",
       "    .dataframe thead th {\n",
       "        text-align: right;\n",
       "    }\n",
       "</style>\n",
       "<table border=\"1\" class=\"dataframe\">\n",
       "  <thead>\n",
       "    <tr style=\"text-align: right;\">\n",
       "      <th></th>\n",
       "      <th>indexpage1</th>\n",
       "      <th>indexpage2</th>\n",
       "      <th>indexpage3</th>\n",
       "      <th>indexpage4</th>\n",
       "      <th>indexpage5</th>\n",
       "      <th>indexpage6</th>\n",
       "      <th>indexpage7</th>\n",
       "      <th>indexpage8</th>\n",
       "      <th>indexpage9</th>\n",
       "      <th>indexpage10</th>\n",
       "      <th>indexpage11</th>\n",
       "      <th>indexpage12</th>\n",
       "      <th>indexpage13</th>\n",
       "      <th>indexpage14</th>\n",
       "      <th>indexpage15</th>\n",
       "      <th>indexpage16</th>\n",
       "      <th>indexpage17</th>\n",
       "    </tr>\n",
       "  </thead>\n",
       "  <tbody>\n",
       "    <tr>\n",
       "      <th>forum1</th>\n",
       "      <td>{'page1': {'comment1': '2001 vw beetle gls 2.0...</td>\n",
       "      <td>{'page1': {'comment1': '\n",
       "Another Flat Reminds ...</td>\n",
       "      <td>{'page1': {'comment1': 'Backstory:  Had all 4 ...</td>\n",
       "      <td>{'page1': {'comment1': 'When I test drove my 2...</td>\n",
       "      <td>{'page1': {'comment1': '\n",
       "Show Me the Tire Pres...</td>\n",
       "      <td>{'page1': {'comment1': '\n",
       "Feds Probe 2014 Ford ...</td>\n",
       "      <td>{'page1': {'comment1': 'Hi! I have 05 kia spor...</td>\n",
       "      <td>{'page1': {'comment1': 'Hi Everyone,'}}</td>\n",
       "      <td>{'page1': {'comment1': '\n",
       "We bought our 2010 VC...</td>\n",
       "      <td>{'page1': {'comment1': 'Ok..I had struts repla...</td>\n",
       "      <td>{'page1': {'comment1': 'Planning on purchasing...</td>\n",
       "      <td>{'page1': {'comment1': 'Hi!!!!', 'comment2': '...</td>\n",
       "      <td>{'page1': {'comment1': 'I need to buy a set of...</td>\n",
       "      <td>{'page1': {'comment1': 'I want to get 31's for...</td>\n",
       "      <td>{'page1': {'comment1': 'Hi I have a Mustang 97...</td>\n",
       "      <td>{'page1': {'comment1': 'I swore that I would o...</td>\n",
       "      <td>{'page1': {'comment1': 'For a smooth ride,what...</td>\n",
       "    </tr>\n",
       "    <tr>\n",
       "      <th>forum10</th>\n",
       "      <td>{'page1': {'comment1': 'I purchased an 06 CXL ...</td>\n",
       "      <td>{'page1': {'comment1': 'I'm turning in my 2014...</td>\n",
       "      <td>{'page1': {'comment1': 'I have a 2002 4Runner ...</td>\n",
       "      <td>{'page1': {'comment1': 'Hi all,', 'comment2': ...</td>\n",
       "      <td>{'page1': {'comment1': '\n",
       "Best Blown Tire Ever ...</td>\n",
       "      <td>{'page1': {'comment1': 'I have a deep impact s...</td>\n",
       "      <td>{'page1': {'comment1': 'Had all new tires put ...</td>\n",
       "      <td>{'page1': {'comment1': 'My owner's manual (Can...</td>\n",
       "      <td>{'page1': {'comment1': 'It's about time to rep...</td>\n",
       "      <td>{'page1': {'comment1': 'Had to replace front t...</td>\n",
       "      <td>{'page1': {'comment1': 'I have a 2000 Lincoln ...</td>\n",
       "      <td>{'page1': {'comment1': 'Hi!  I have owned a 20...</td>\n",
       "      <td>{'page1': {'comment1': 'I purchased a 2005 Hyu...</td>\n",
       "      <td>{'page1': {'comment1': 'Discuss tire and wheel...</td>\n",
       "      <td>{'page1': {'comment1': 'My 2005 Lincoln Townca...</td>\n",
       "      <td>{'page1': {'comment1': 'Can some-one PLEASE te...</td>\n",
       "      <td>{'page1': {'comment1': 'I have a new 2002 2WD ...</td>\n",
       "    </tr>\n",
       "    <tr>\n",
       "      <th>forum11</th>\n",
       "      <td>{'page1': {'comment1': 'I have a 2012 Ford Fus...</td>\n",
       "      <td>{'page1': {'comment1': 'I just purchased a 201...</td>\n",
       "      <td>{'page1': {'comment1': 'Hi! My front left whee...</td>\n",
       "      <td>{'page1': {'comment1': 'Does anyone have a rec...</td>\n",
       "      <td>{'page1': {'comment1': '\n",
       "Love Those Big, Moder...</td>\n",
       "      <td>{'page1': {'comment1': '\n",
       "Nailed It - 2015 Jagu...</td>\n",
       "      <td>{'page1': {'comment1': 'I have a 2010 Honda Ci...</td>\n",
       "      <td>{'page1': {'comment1': '\n",
       "I started getting thi...</td>\n",
       "      <td>{'page1': {'comment1': '\n",
       "I wrote this complain...</td>\n",
       "      <td>{'page1': {'comment1': 'I'm purchasing a 2004 ...</td>\n",
       "      <td>{'page1': {'comment1': 'Hi, somebody can tell ...</td>\n",
       "      <td>{'page1': {'comment1': 'I bought an 07 ESV bac...</td>\n",
       "      <td>{'page1': {'comment1': 'I have an 05 T&amp;C with ...</td>\n",
       "      <td>{'page1': {'comment1': 'My AVY has the 16-inch...</td>\n",
       "      <td>{'page1': {'comment1': 'I'd like to find more ...</td>\n",
       "      <td>{'page1': {'comment1': 'Shopping for new rims ...</td>\n",
       "      <td>{'page1': {'comment1': 'Hi there,', 'comment2'...</td>\n",
       "    </tr>\n",
       "    <tr>\n",
       "      <th>forum12</th>\n",
       "      <td>{'page1': {'comment1': '\n",
       "The Pros and Cons of ...</td>\n",
       "      <td>{'page1': {'comment1': 'We leased a Demo model...</td>\n",
       "      <td>{'page1': {'comment1': 'I've noticed that my C...</td>\n",
       "      <td>{'page1': {'comment1': 'We recently purchased ...</td>\n",
       "      <td>{'page1': {'comment1': '\n",
       "Old Car, Modern Tire ...</td>\n",
       "      <td>{'page1': {'comment1': '\n",
       "Best Fix for Chrome W...</td>\n",
       "      <td>{'page1': {'comment1': 'Can anyone tell me wha...</td>\n",
       "      <td>{'page1': {'comment1': '\n",
       "Would appreciate some...</td>\n",
       "      <td>{'page1': {'comment1': '\n",
       "For what it's worth, ...</td>\n",
       "      <td>{'page1': {'comment1': 'I purchased a 2007 Yuk...</td>\n",
       "      <td>{'page1': {'comment1': 'I am trying to purchas...</td>\n",
       "      <td>{'page1': {'comment1': 'My 97 came with Michel...</td>\n",
       "      <td>{'page1': {'comment1': 'The original Goodyears...</td>\n",
       "      <td>{'page1': {'comment1': 'Discuss tire and wheel...</td>\n",
       "      <td>{'page1': {'comment1': 'I read on here that so...</td>\n",
       "      <td>{'page1': {'comment1': 'Is the Sport with the ...</td>\n",
       "      <td>{'page1': {'comment1': 'I have 95 diesel subur...</td>\n",
       "    </tr>\n",
       "    <tr>\n",
       "      <th>forum13</th>\n",
       "      <td>{'page1': {'comment1': 'Hidden cost of  2017 M...</td>\n",
       "      <td>{'page1': {'comment1': 'My tires have inner to...</td>\n",
       "      <td>{'page1': {'comment1': 'Are you experience abn...</td>\n",
       "      <td>{'page1': {'comment1': 'Hi. I'm looking for an...</td>\n",
       "      <td>{'page1': {'comment1': 'Have a problem or ques...</td>\n",
       "      <td>{'page1': {'comment1': 'My 2001 Ford Explorer ...</td>\n",
       "      <td>{'page1': {'comment1': 'I have just replaced a...</td>\n",
       "      <td>{'page1': {'comment1': '\n",
       "I got into an acciden...</td>\n",
       "      <td>{'page1': {'comment1': 'Folks,', 'comment2': '...</td>\n",
       "      <td>{'page1': {'comment1': 'Have a G35 Sedan 2003 ...</td>\n",
       "      <td>{'page1': {'comment1': 'I have been leasing an...</td>\n",
       "      <td>{'page1': {'comment1': 'Put another way, will ...</td>\n",
       "      <td>{'page1': {'comment1': 'I am finally putting a...</td>\n",
       "      <td>{'page1': {'comment1': 'The TPC Spec number yo...</td>\n",
       "      <td>{'page1': {'comment1': 'My MB R500 has the AMG...</td>\n",
       "      <td>{'page1': {'comment1': 'My TPMS light came on ...</td>\n",
       "      <td>{'page1': {'comment1': 'A friend of mine who r...</td>\n",
       "    </tr>\n",
       "  </tbody>\n",
       "</table>\n",
       "</div>"
      ],
      "text/plain": [
       "                                                indexpage1  \\\n",
       "forum1   {'page1': {'comment1': '2001 vw beetle gls 2.0...   \n",
       "forum10  {'page1': {'comment1': 'I purchased an 06 CXL ...   \n",
       "forum11  {'page1': {'comment1': 'I have a 2012 Ford Fus...   \n",
       "forum12  {'page1': {'comment1': '\n",
       "The Pros and Cons of ...   \n",
       "forum13  {'page1': {'comment1': 'Hidden cost of  2017 M...   \n",
       "\n",
       "                                                indexpage2  \\\n",
       "forum1   {'page1': {'comment1': '\n",
       "Another Flat Reminds ...   \n",
       "forum10  {'page1': {'comment1': 'I'm turning in my 2014...   \n",
       "forum11  {'page1': {'comment1': 'I just purchased a 201...   \n",
       "forum12  {'page1': {'comment1': 'We leased a Demo model...   \n",
       "forum13  {'page1': {'comment1': 'My tires have inner to...   \n",
       "\n",
       "                                                indexpage3  \\\n",
       "forum1   {'page1': {'comment1': 'Backstory:  Had all 4 ...   \n",
       "forum10  {'page1': {'comment1': 'I have a 2002 4Runner ...   \n",
       "forum11  {'page1': {'comment1': 'Hi! My front left whee...   \n",
       "forum12  {'page1': {'comment1': 'I've noticed that my C...   \n",
       "forum13  {'page1': {'comment1': 'Are you experience abn...   \n",
       "\n",
       "                                                indexpage4  \\\n",
       "forum1   {'page1': {'comment1': 'When I test drove my 2...   \n",
       "forum10  {'page1': {'comment1': 'Hi all,', 'comment2': ...   \n",
       "forum11  {'page1': {'comment1': 'Does anyone have a rec...   \n",
       "forum12  {'page1': {'comment1': 'We recently purchased ...   \n",
       "forum13  {'page1': {'comment1': 'Hi. I'm looking for an...   \n",
       "\n",
       "                                                indexpage5  \\\n",
       "forum1   {'page1': {'comment1': '\n",
       "Show Me the Tire Pres...   \n",
       "forum10  {'page1': {'comment1': '\n",
       "Best Blown Tire Ever ...   \n",
       "forum11  {'page1': {'comment1': '\n",
       "Love Those Big, Moder...   \n",
       "forum12  {'page1': {'comment1': '\n",
       "Old Car, Modern Tire ...   \n",
       "forum13  {'page1': {'comment1': 'Have a problem or ques...   \n",
       "\n",
       "                                                indexpage6  \\\n",
       "forum1   {'page1': {'comment1': '\n",
       "Feds Probe 2014 Ford ...   \n",
       "forum10  {'page1': {'comment1': 'I have a deep impact s...   \n",
       "forum11  {'page1': {'comment1': '\n",
       "Nailed It - 2015 Jagu...   \n",
       "forum12  {'page1': {'comment1': '\n",
       "Best Fix for Chrome W...   \n",
       "forum13  {'page1': {'comment1': 'My 2001 Ford Explorer ...   \n",
       "\n",
       "                                                indexpage7  \\\n",
       "forum1   {'page1': {'comment1': 'Hi! I have 05 kia spor...   \n",
       "forum10  {'page1': {'comment1': 'Had all new tires put ...   \n",
       "forum11  {'page1': {'comment1': 'I have a 2010 Honda Ci...   \n",
       "forum12  {'page1': {'comment1': 'Can anyone tell me wha...   \n",
       "forum13  {'page1': {'comment1': 'I have just replaced a...   \n",
       "\n",
       "                                                indexpage8  \\\n",
       "forum1             {'page1': {'comment1': 'Hi Everyone,'}}   \n",
       "forum10  {'page1': {'comment1': 'My owner's manual (Can...   \n",
       "forum11  {'page1': {'comment1': '\n",
       "I started getting thi...   \n",
       "forum12  {'page1': {'comment1': '\n",
       "Would appreciate some...   \n",
       "forum13  {'page1': {'comment1': '\n",
       "I got into an acciden...   \n",
       "\n",
       "                                                indexpage9  \\\n",
       "forum1   {'page1': {'comment1': '\n",
       "We bought our 2010 VC...   \n",
       "forum10  {'page1': {'comment1': 'It's about time to rep...   \n",
       "forum11  {'page1': {'comment1': '\n",
       "I wrote this complain...   \n",
       "forum12  {'page1': {'comment1': '\n",
       "For what it's worth, ...   \n",
       "forum13  {'page1': {'comment1': 'Folks,', 'comment2': '...   \n",
       "\n",
       "                                               indexpage10  \\\n",
       "forum1   {'page1': {'comment1': 'Ok..I had struts repla...   \n",
       "forum10  {'page1': {'comment1': 'Had to replace front t...   \n",
       "forum11  {'page1': {'comment1': 'I'm purchasing a 2004 ...   \n",
       "forum12  {'page1': {'comment1': 'I purchased a 2007 Yuk...   \n",
       "forum13  {'page1': {'comment1': 'Have a G35 Sedan 2003 ...   \n",
       "\n",
       "                                               indexpage11  \\\n",
       "forum1   {'page1': {'comment1': 'Planning on purchasing...   \n",
       "forum10  {'page1': {'comment1': 'I have a 2000 Lincoln ...   \n",
       "forum11  {'page1': {'comment1': 'Hi, somebody can tell ...   \n",
       "forum12  {'page1': {'comment1': 'I am trying to purchas...   \n",
       "forum13  {'page1': {'comment1': 'I have been leasing an...   \n",
       "\n",
       "                                               indexpage12  \\\n",
       "forum1   {'page1': {'comment1': 'Hi!!!!', 'comment2': '...   \n",
       "forum10  {'page1': {'comment1': 'Hi!  I have owned a 20...   \n",
       "forum11  {'page1': {'comment1': 'I bought an 07 ESV bac...   \n",
       "forum12  {'page1': {'comment1': 'My 97 came with Michel...   \n",
       "forum13  {'page1': {'comment1': 'Put another way, will ...   \n",
       "\n",
       "                                               indexpage13  \\\n",
       "forum1   {'page1': {'comment1': 'I need to buy a set of...   \n",
       "forum10  {'page1': {'comment1': 'I purchased a 2005 Hyu...   \n",
       "forum11  {'page1': {'comment1': 'I have an 05 T&C with ...   \n",
       "forum12  {'page1': {'comment1': 'The original Goodyears...   \n",
       "forum13  {'page1': {'comment1': 'I am finally putting a...   \n",
       "\n",
       "                                               indexpage14  \\\n",
       "forum1   {'page1': {'comment1': 'I want to get 31's for...   \n",
       "forum10  {'page1': {'comment1': 'Discuss tire and wheel...   \n",
       "forum11  {'page1': {'comment1': 'My AVY has the 16-inch...   \n",
       "forum12  {'page1': {'comment1': 'Discuss tire and wheel...   \n",
       "forum13  {'page1': {'comment1': 'The TPC Spec number yo...   \n",
       "\n",
       "                                               indexpage15  \\\n",
       "forum1   {'page1': {'comment1': 'Hi I have a Mustang 97...   \n",
       "forum10  {'page1': {'comment1': 'My 2005 Lincoln Townca...   \n",
       "forum11  {'page1': {'comment1': 'I'd like to find more ...   \n",
       "forum12  {'page1': {'comment1': 'I read on here that so...   \n",
       "forum13  {'page1': {'comment1': 'My MB R500 has the AMG...   \n",
       "\n",
       "                                               indexpage16  \\\n",
       "forum1   {'page1': {'comment1': 'I swore that I would o...   \n",
       "forum10  {'page1': {'comment1': 'Can some-one PLEASE te...   \n",
       "forum11  {'page1': {'comment1': 'Shopping for new rims ...   \n",
       "forum12  {'page1': {'comment1': 'Is the Sport with the ...   \n",
       "forum13  {'page1': {'comment1': 'My TPMS light came on ...   \n",
       "\n",
       "                                               indexpage17  \n",
       "forum1   {'page1': {'comment1': 'For a smooth ride,what...  \n",
       "forum10  {'page1': {'comment1': 'I have a new 2002 2WD ...  \n",
       "forum11  {'page1': {'comment1': 'Hi there,', 'comment2'...  \n",
       "forum12  {'page1': {'comment1': 'I have 95 diesel subur...  \n",
       "forum13  {'page1': {'comment1': 'A friend of mine who r...  "
      ]
     },
     "execution_count": 1,
     "metadata": {},
     "output_type": "execute_result"
    }
   ],
   "source": [
    "import pandas as pd\n",
    "p = pd.read_json(\"edmunds_comment_data.json\")\n",
    "p.head()"
   ]
  },
  {
   "cell_type": "code",
   "execution_count": 2,
   "metadata": {},
   "outputs": [
    {
     "data": {
      "text/plain": [
       "(40, 17)"
      ]
     },
     "execution_count": 2,
     "metadata": {},
     "output_type": "execute_result"
    }
   ],
   "source": [
    "p.shape"
   ]
  },
  {
   "cell_type": "markdown",
   "metadata": {},
   "source": [
    "## Clean data and get a dictionary of comments for analysis"
   ]
  },
  {
   "cell_type": "code",
   "execution_count": 7,
   "metadata": {},
   "outputs": [
    {
     "name": "stdout",
     "output_type": "stream",
     "text": [
      "Number of comments scraped: 42890\n"
     ]
    }
   ],
   "source": [
    "import json\n",
    "import nltk\n",
    "from nltk.tokenize import word_tokenize,sent_tokenize\n",
    "from functools import reduce\n",
    "from collections import Counter\n",
    "\n",
    "with open(\"edmunds_comment_data.json\", 'r') as f:\n",
    "    js = json.load(f)\n",
    "\n",
    "commentcount = 0\n",
    "characterstoclean = r'?!,:,/\\\"-+=@#$%^&*()><{}[]|' + r\"'\"\n",
    "\n",
    "commentsdict = {}\n",
    "words = []\n",
    "for i in js.keys():\n",
    "    for j in js[i].keys():\n",
    "        for k in js[i][j].keys():\n",
    "            for l in js[i][j][k].keys():\n",
    "                commentcount+=1\n",
    "                cleanwords = []\n",
    "#                 for w in word_tokenize(js[i][j][k][l]):\n",
    "#                     cleanword = ''.join( c for c in w if c not in characterstoclean ).lower()\n",
    "#                     cleanwords.append(cleanword)\n",
    "#                     words.append(cleanword)\n",
    "                comment = ''\n",
    "                # to remove quoted content in comments, not 100% effective\n",
    "                for s in sent_tokenize(js[i][j][k][l].lower()):\n",
    "                    if \"said:\" not in s:\n",
    "                        comment+=\" \" + s\n",
    "                for c in characterstoclean:\n",
    "                    comment = comment.replace(c,'')\n",
    "                for w in word_tokenize(comment):\n",
    "                    cleanwords.append(w)\n",
    "                    words.append(w)                \n",
    "                \n",
    "                commentsdict['comment' + str(commentcount)] = ' '.join(cleanwords)\n",
    "                \n",
    "\n",
    "print(\"Number of comments scraped: \" + str(commentcount))"
   ]
  },
  {
   "cell_type": "markdown",
   "metadata": {},
   "source": [
    "## Get number of occurences for each word in all comments"
   ]
  },
  {
   "cell_type": "code",
   "execution_count": 8,
   "metadata": {},
   "outputs": [],
   "source": [
    "cnt = Counter(words)"
   ]
  },
  {
   "cell_type": "code",
   "execution_count": 9,
   "metadata": {},
   "outputs": [
    {
     "data": {
      "text/plain": [
       "[(119768, 'the'),\n",
       " (108854, '.'),\n",
       " (59856, 'i'),\n",
       " (52599, 'a'),\n",
       " (49284, 'to'),\n",
       " (48173, 'and'),\n",
       " (28879, 'of'),\n",
       " (28288, 'on'),\n",
       " (26016, 'it'),\n",
       " (26003, 'is')]"
      ]
     },
     "execution_count": 9,
     "metadata": {},
     "output_type": "execute_result"
    }
   ],
   "source": [
    "ranked_cnt = []\n",
    "for i in cnt:\n",
    "    ranked_cnt.append( (cnt[i], i) )\n",
    "ranked_cnt.sort(reverse=True)\n",
    "ranked_cnt[:10]"
   ]
  },
  {
   "cell_type": "markdown",
   "metadata": {},
   "source": [
    "## Top 10 Mentioned Brands"
   ]
  },
  {
   "cell_type": "code",
   "execution_count": 10,
   "metadata": {},
   "outputs": [
    {
     "data": {
      "text/plain": [
       "[('Michelin', 2579),\n",
       " ('Bridgestone', 1533),\n",
       " ('Goodyear', 1358),\n",
       " ('Toyo', 622),\n",
       " ('Firestone', 531),\n",
       " ('Dunlop', 499),\n",
       " ('Continental', 450),\n",
       " ('Yokohama', 441),\n",
       " ('General', 398),\n",
       " ('Nokian', 350),\n",
       " ('Pirelli', 346),\n",
       " ('Kumho', 301),\n",
       " ('Cooper', 239),\n",
       " ('Hankook', 151),\n",
       " ('Falken', 85),\n",
       " ('Sumitomo', 59),\n",
       " ('BFGoodrich', 58),\n",
       " ('Uniroyal', 50),\n",
       " ('Nitto', 36),\n",
       " ('Nexen', 22),\n",
       " ('GT Radial', 0)]"
      ]
     },
     "execution_count": 10,
     "metadata": {},
     "output_type": "execute_result"
    }
   ],
   "source": [
    "brands = ['BFGoodrich', 'Bridgestone', 'Continental', 'Cooper', 'Dunlop', 'Falken', 'Firestone', 'General', 'Goodyear', 'GT Radial', 'Hankook', 'Kumho', 'Michelin', 'Nexen', 'Nitto', 'Nokian', 'Pirelli', 'Sumitomo', 'Toyo', 'Uniroyal', 'Yokohama']\n",
    "brand_counts = []\n",
    "for i in brands:\n",
    "    brand_counts.append((i, cnt[i.lower()] ))\n",
    "\n",
    "brand_counts.sort(key=lambda x: x[1], reverse=True)\n",
    "brand_counts"
   ]
  },
  {
   "cell_type": "markdown",
   "metadata": {},
   "source": [
    "## Get all the comments that mention goodyear"
   ]
  },
  {
   "cell_type": "code",
   "execution_count": 11,
   "metadata": {},
   "outputs": [],
   "source": [
    "goodyear_comments = {}\n",
    "for i in commentsdict:\n",
    "    if 'goodyear' in commentsdict[i]:\n",
    "        goodyear_comments[i] = commentsdict[i]"
   ]
  },
  {
   "cell_type": "code",
   "execution_count": 12,
   "metadata": {},
   "outputs": [
    {
     "data": {
      "text/plain": [
       "1381"
      ]
     },
     "execution_count": 12,
     "metadata": {},
     "output_type": "execute_result"
    }
   ],
   "source": [
    "len(goodyear_comments)"
   ]
  },
  {
   "cell_type": "markdown",
   "metadata": {},
   "source": [
    "## Get all the words used in comments that mention goodyear"
   ]
  },
  {
   "cell_type": "code",
   "execution_count": 13,
   "metadata": {},
   "outputs": [],
   "source": [
    "words_in_goodyear_comments = []\n",
    "for i in goodyear_comments:\n",
    "    for j in word_tokenize(goodyear_comments[i]):\n",
    "        words_in_goodyear_comments.append(j)"
   ]
  },
  {
   "cell_type": "code",
   "execution_count": 14,
   "metadata": {},
   "outputs": [],
   "source": [
    "gdyr_cnt = Counter(words_in_goodyear_comments)"
   ]
  },
  {
   "cell_type": "code",
   "execution_count": 15,
   "metadata": {},
   "outputs": [
    {
     "data": {
      "text/plain": [
       "[(6110, 'the'),\n",
       " (5797, '.'),\n",
       " (3414, 'i'),\n",
       " (2700, 'and'),\n",
       " (2429, 'a'),\n",
       " (2167, 'to'),\n",
       " (2043, 'tires'),\n",
       " (1772, 'on'),\n",
       " (1390, 'of'),\n",
       " (1358, 'goodyear')]"
      ]
     },
     "execution_count": 15,
     "metadata": {},
     "output_type": "execute_result"
    }
   ],
   "source": [
    "ranked_goyr_cnt = []\n",
    "for i in gdyr_cnt:\n",
    "    ranked_goyr_cnt.append( (gdyr_cnt[i], i) )\n",
    "ranked_goyr_cnt.sort(reverse=True)\n",
    "ranked_goyr_cnt[:10]"
   ]
  },
  {
   "cell_type": "markdown",
   "metadata": {},
   "source": [
    "## Comments with goodyear and ____ in them"
   ]
  },
  {
   "cell_type": "code",
   "execution_count": 16,
   "metadata": {},
   "outputs": [
    {
     "data": {
      "text/plain": [
       "8"
      ]
     },
     "execution_count": 16,
     "metadata": {},
     "output_type": "execute_result"
    }
   ],
   "source": [
    "comparisonstring = 'american'\n",
    "\n",
    "comments_with_gdyr_and = []\n",
    "for i in goodyear_comments:\n",
    "    if comparisonstring in goodyear_comments[i]:\n",
    "        comments_with_gdyr_and.append(goodyear_comments[i])\n",
    "len(comments_with_gdyr_and)"
   ]
  },
  {
   "cell_type": "code",
   "execution_count": 26,
   "metadata": {},
   "outputs": [
    {
     "data": {
      "text/plain": [
       "'hey thanks for your response . i did have them install 2 new goodyear tires to replace the 2 that i had just purchased and they are just as bad . the goodyears that i have are called american eagles . is that a private labled model maybe i would be better off going to a different walmart maybe they carry a different tire for my car . maybe they have technicians that are nice . maybe just maybe .'"
      ]
     },
     "execution_count": 26,
     "metadata": {},
     "output_type": "execute_result"
    }
   ],
   "source": [
    "comments_with_gdyr_and[0]"
   ]
  },
  {
   "cell_type": "code",
   "execution_count": null,
   "metadata": {},
   "outputs": [],
   "source": []
  },
  {
   "cell_type": "code",
   "execution_count": null,
   "metadata": {},
   "outputs": [],
   "source": []
  },
  {
   "cell_type": "markdown",
   "metadata": {},
   "source": [
    "Possibly filter lift value to represent associations within a maximum word count  \n",
    "    Beto -- Healthcare (no more than 6 words in between)  \n",
    "mds map a disimilarity matrix, not similarity matrix"
   ]
  }
 ],
 "metadata": {
  "kernelspec": {
   "display_name": "Python 3",
   "language": "python",
   "name": "python3"
  },
  "language_info": {
   "codemirror_mode": {
    "name": "ipython",
    "version": 3
   },
   "file_extension": ".py",
   "mimetype": "text/x-python",
   "name": "python",
   "nbconvert_exporter": "python",
   "pygments_lexer": "ipython3",
   "version": "3.6.5"
  }
 },
 "nbformat": 4,
 "nbformat_minor": 2
}
